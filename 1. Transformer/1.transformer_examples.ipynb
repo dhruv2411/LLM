{
 "cells": [
  {
   "cell_type": "markdown",
   "id": "fcb6c97f",
   "metadata": {},
   "source": [
    "## Project Description:\n",
    "\n",
    "This project demonstrates the use of a pre-trained BERT model (bert-base-uncased) from Hugging Face to extract contextual embeddings from text and visualize the self-attention mechanism.\n",
    "\n",
    "It is divided into three parts:\n",
    "\n",
    "BERT for Sentence Embeddings\n",
    "Load BERT and its tokenizer, tokenize a sentence, and extract contextualized word embeddings from the model's last_hidden_state.\n",
    "\n",
    "Manual Attention Mechanism\n",
    "Define random query, key, and value matrices in PyTorch. Compute attention scores using dot products, apply softmax to obtain attention weights, and generate the weighted output.\n",
    "\n",
    "Attention Weight Visualization\n",
    "Load BERT with output_attentions=True, tokenize a sentence, extract attention tensors from the first layer, average across heads, and visualize token-wise attention using a heatmap.\n",
    "\n",
    "### Outcomes:\n",
    "\n",
    "By the end of this project, you will have a foundational understanding of how BERT works internally, how attention is computed, and how to visualize and interpret attention weights in transformer models."
   ]
  },
  {
   "cell_type": "markdown",
   "id": "9cc393a6",
   "metadata": {},
   "source": [
    "### BERT EXAMPLE"
   ]
  },
  {
   "cell_type": "code",
   "execution_count": null,
   "id": "0730bdcc",
   "metadata": {},
   "outputs": [],
   "source": [
    "#pip install transformers"
   ]
  },
  {
   "cell_type": "code",
   "execution_count": 4,
   "id": "031b788b",
   "metadata": {},
   "outputs": [
    {
     "data": {
      "application/vnd.jupyter.widget-view+json": {
       "model_id": "aea18eca1ece4269a60599e4196d18ca",
       "version_major": 2,
       "version_minor": 0
      },
      "text/plain": [
       "tokenizer_config.json:   0%|          | 0.00/48.0 [00:00<?, ?B/s]"
      ]
     },
     "metadata": {},
     "output_type": "display_data"
    },
    {
     "name": "stderr",
     "output_type": "stream",
     "text": [
      "C:\\Users\\Dhruv\\anaconda3\\lib\\site-packages\\huggingface_hub\\file_download.py:144: UserWarning: `huggingface_hub` cache-system uses symlinks by default to efficiently store duplicated files but your machine does not support them in C:\\Users\\Dhruv\\.cache\\huggingface\\hub\\models--bert-base-uncased. Caching files will still work but in a degraded version that might require more space on your disk. This warning can be disabled by setting the `HF_HUB_DISABLE_SYMLINKS_WARNING` environment variable. For more details, see https://huggingface.co/docs/huggingface_hub/how-to-cache#limitations.\n",
      "To support symlinks on Windows, you either need to activate Developer Mode or to run Python as an administrator. In order to activate developer mode, see this article: https://docs.microsoft.com/en-us/windows/apps/get-started/enable-your-device-for-development\n",
      "  warnings.warn(message)\n"
     ]
    },
    {
     "data": {
      "application/vnd.jupyter.widget-view+json": {
       "model_id": "06925a4f89ca47fd95c4ab1b145115de",
       "version_major": 2,
       "version_minor": 0
      },
      "text/plain": [
       "vocab.txt:   0%|          | 0.00/232k [00:00<?, ?B/s]"
      ]
     },
     "metadata": {},
     "output_type": "display_data"
    },
    {
     "data": {
      "application/vnd.jupyter.widget-view+json": {
       "model_id": "93f21d92754c4c4999a4c46570f7ef21",
       "version_major": 2,
       "version_minor": 0
      },
      "text/plain": [
       "tokenizer.json:   0%|          | 0.00/466k [00:00<?, ?B/s]"
      ]
     },
     "metadata": {},
     "output_type": "display_data"
    },
    {
     "data": {
      "application/vnd.jupyter.widget-view+json": {
       "model_id": "09bca7385bfc442ab4efad63cf2e52cf",
       "version_major": 2,
       "version_minor": 0
      },
      "text/plain": [
       "config.json:   0%|          | 0.00/570 [00:00<?, ?B/s]"
      ]
     },
     "metadata": {},
     "output_type": "display_data"
    },
    {
     "name": "stderr",
     "output_type": "stream",
     "text": [
      "Xet Storage is enabled for this repo, but the 'hf_xet' package is not installed. Falling back to regular HTTP download. For better performance, install the package with: `pip install huggingface_hub[hf_xet]` or `pip install hf_xet`\n"
     ]
    },
    {
     "data": {
      "application/vnd.jupyter.widget-view+json": {
       "model_id": "0e62d0abb68d493097da08b411903969",
       "version_major": 2,
       "version_minor": 0
      },
      "text/plain": [
       "model.safetensors:   0%|          | 0.00/440M [00:00<?, ?B/s]"
      ]
     },
     "metadata": {},
     "output_type": "display_data"
    }
   ],
   "source": [
    "from transformers import BertModel, BertTokenizer\n",
    "# Load a pre-trained BERI model and tokenizer\n",
    "tokenizer = BertTokenizer.from_pretrained('bert-base-uncased' )\n",
    "model= BertModel.from_pretrained('bert-base-uncased')"
   ]
  },
  {
   "cell_type": "code",
   "execution_count": 6,
   "id": "342bb0c6",
   "metadata": {},
   "outputs": [
    {
     "name": "stdout",
     "output_type": "stream",
     "text": [
      "tensor([[[-0.0824,  0.0667, -0.2880,  ..., -0.3566,  0.1960,  0.5381],\n",
      "         [ 0.0310, -0.1448,  0.0952,  ..., -0.1560,  1.0151,  0.0947],\n",
      "         [-0.8935,  0.3240,  0.4184,  ..., -0.5498,  0.2853,  0.1149],\n",
      "         ...,\n",
      "         [-0.2812, -0.8531,  0.6912,  ..., -0.5051,  0.4716, -0.6854],\n",
      "         [-0.4429, -0.7820, -0.8055,  ...,  0.1949,  0.1081,  0.0130],\n",
      "         [ 0.5570, -0.1080, -0.2412,  ...,  0.2817, -0.3996, -0.1882]]],\n",
      "       grad_fn=<NativeLayerNormBackward0>)\n"
     ]
    }
   ],
   "source": [
    "# Tokenize the input sentence\n",
    "input_text = \"Hello, how are you?\"\n",
    "inputs = tokenizer(input_text, return_tensors=\"pt\")\n",
    "# Pass the input through the model.\n",
    "outputs = model(**inputs)\n",
    "# Get the encoded output\n",
    "encoded_output = outputs.last_hidden_state\n",
    "print(encoded_output)"
   ]
  },
  {
   "cell_type": "markdown",
   "id": "10c42a3c",
   "metadata": {},
   "source": [
    "In this code, the BERT model (which uses a transformer encoder) processes the sentence “Hello, how are you?” and produces a contextualized representation of the sentence."
   ]
  },
  {
   "cell_type": "markdown",
   "id": "984d467c",
   "metadata": {},
   "source": [
    "### ATTENTION EXAMPLE"
   ]
  },
  {
   "cell_type": "code",
   "execution_count": 10,
   "id": "b69417c9",
   "metadata": {},
   "outputs": [
    {
     "name": "stdout",
     "output_type": "stream",
     "text": [
      "tensor([[[0.3796, 0.5130, 0.3839, 0.5542, 0.2929],\n",
      "         [0.3180, 0.4984, 0.2658, 0.6489, 0.2675],\n",
      "         [0.2991, 0.5295, 0.2455, 0.6448, 0.2791]]])\n"
     ]
    }
   ],
   "source": [
    "import torch\n",
    "import torch.nn.functional as F\n",
    "# Define query, key, value matrices\n",
    "query = torch.rand(1, 3, 5) # (batch_size, seg_len, embedding dim)\n",
    "key = torch.rand (1, 3, 5)\n",
    "value = torch.rand (1, 3, 5)\n",
    "# Compute attention scores\n",
    "attention_scores = torch.bmm(query, key.transpose(1, 2))\n",
    "# Normalize scores with softmax\n",
    "attention_weights = F.softmax(attention_scores, dim=-1)\n",
    "# Compute weighted sum of values\n",
    "output = torch.bmm(attention_weights, value)\n",
    "print(output)"
   ]
  },
  {
   "cell_type": "markdown",
   "id": "c119ab08",
   "metadata": {},
   "source": [
    "### VISUALIZE AND INTERPRET ATTENTION WEIGHTS"
   ]
  },
  {
   "cell_type": "code",
   "execution_count": 19,
   "id": "603b0375",
   "metadata": {},
   "outputs": [],
   "source": [
    "import torch\n",
    "from transformers import BertTokenizer, BertModel \n",
    "import matplotlib.pyplot as plt \n",
    "import numpy as np\n",
    "# Load model and tokenizer\n",
    "model = BertModel.from_pretrained(\"bert-base-uncased\" , output_attentions=True)\n",
    "tokenizer = BertTokenizer.from_pretrained(\"bert-base-uncased\")\n",
    "# Tokenize input\n",
    "input_text = \"The quick brown fox jumps over the lazy dog\"\n",
    "inputs = tokenizer (input_text, return_tensors=\"pt\")\n",
    "# Get outputs including attention weights\n",
    "outputs = model(**inputs)\n",
    "attentions = outputs.attentions"
   ]
  },
  {
   "cell_type": "code",
   "execution_count": 16,
   "id": "05cec4e8",
   "metadata": {},
   "outputs": [],
   "source": [
    "# Select attention for the first layer\n",
    "attention = attentions[0].mean(dim=1)# average across heads\n",
    "# Average across heads\n",
    "# Convert attention tensor\n",
    "attention_weights = attention[0].detach().numpy()\n",
    "# Get the tokenized words\n",
    "tokens = tokenizer.convert_ids_to_tokens(inputs['input_ids'][0])"
   ]
  },
  {
   "cell_type": "code",
   "execution_count": 20,
   "id": "811d5695",
   "metadata": {},
   "outputs": [
    {
     "data": {
      "image/png": "[encoded data removed]",
      "text/plain": [
       "<Figure size 720x576 with 2 Axes>"
      ]
     },
     "metadata": {
      "needs_background": "light"
     },
     "output_type": "display_data"
    }
   ],
   "source": [
    " #Plot the attention weights for each token\n",
    "plt.figure(figsize= (10, 8))\n",
    "plt.matshow(attention_weights, cmap='viridis', fignum=1) # Use a colormap for better visualization\n",
    "plt.title (\"Average Attention Weights (Layer 0)\")\n",
    "\n",
    "# Add a colorbar to show the scale of attention weights\n",
    "plt.colorbar (label='Attention Weight')\n",
    "# Set x and y axis labels with the token names\n",
    "plt.xticks(ticks=np.arange(len(tokens)), labels=tokens, rotation=90)\n",
    "plt.yticks(ticks=np.arange(len(tokens)), labels=tokens)\n",
    "# Show the plot\n",
    "plt.show()"
   ]
  },
  {
   "cell_type": "code",
   "execution_count": null,
   "id": "2db22d53",
   "metadata": {},
   "outputs": [],
   "source": []
  }
 ],
 "metadata": {
  "kernelspec": {
   "display_name": "Python 3 (ipykernel)",
   "language": "python",
   "name": "python3"
  },
  "language_info": {
   "codemirror_mode": {
    "name": "ipython",
    "version": 3
   },
   "file_extension": ".py",
   "mimetype": "text/x-python",
   "name": "python",
   "nbconvert_exporter": "python",
   "pygments_lexer": "ipython3",
   "version": "3.9.7"
  }
 },
 "nbformat": 4,
 "nbformat_minor": 5
}
